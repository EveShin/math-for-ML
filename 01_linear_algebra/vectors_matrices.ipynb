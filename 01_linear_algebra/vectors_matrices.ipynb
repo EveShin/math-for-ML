{
 "cells": [
  {
   "cell_type": "markdown",
   "id": "018262d3",
   "metadata": {},
   "source": [
    "# 벡터와 행렬 기초 - 머신러닝을 위한 선형대수"
   ]
  },
  {
   "cell_type": "code",
   "execution_count": 32,
   "id": "290e3d6d",
   "metadata": {},
   "outputs": [],
   "source": [
    "import numpy as np\n",
    "import matplotlib.pyplot as plt\n",
    "from mpl_toolkits.mplot3d import Axes3D\n",
    "import seaborn as sns"
   ]
  },
  {
   "cell_type": "code",
   "execution_count": 33,
   "id": "ecd24f22",
   "metadata": {},
   "outputs": [],
   "source": [
    "plt.rcParams['font.family'] = 'DejaVu Sans'\n",
    "plt.rcParams['axes.unicode_minus'] = False"
   ]
  },
  {
   "cell_type": "markdown",
   "id": "513027f0",
   "metadata": {},
   "source": [
    "# 1. 벡터 (Vector) 기초"
   ]
  },
  {
   "cell_type": "markdown",
   "id": "f6706684",
   "metadata": {},
   "source": [
    "### 벡터란 무엇인가?\n",
    "\n",
    "벡터는 크기(magnitude)와 방향(direction)을 가진 수학적 객체이다.  \n",
    "머신러닝에서는 데이터의 특성(feature)을 표현하는 핵심 도구이다.\n",
    "\n",
    "예시:\n",
    "- 2차원 벡터: [3, 4] → x축으로 3, y축으로 4\n",
    "- 3차원 벡터: [1, 2, 3] → x, y, z축 각각으로 1, 2, 3\n",
    "- n차원 벡터: 머신러닝에서 하나의 샘플을 표현"
   ]
  },
  {
   "cell_type": "code",
   "execution_count": 35,
   "id": "a68ffcd3",
   "metadata": {},
   "outputs": [
    {
     "data": {
      "text/plain": [
       "<matplotlib.legend.Legend at 0x19348c89f40>"
      ]
     },
     "execution_count": 35,
     "metadata": {},
     "output_type": "execute_result"
    },
    {
     "name": "stderr",
     "output_type": "stream",
     "text": [
      "c:\\Users\\shina\\anaconda3\\Lib\\site-packages\\IPython\\core\\events.py:82: UserWarning: Glyph 52629 (\\N{HANGUL SYLLABLE CUG}) missing from font(s) DejaVu Sans.\n",
      "  func(*args, **kwargs)\n",
      "c:\\Users\\shina\\anaconda3\\Lib\\site-packages\\IPython\\core\\events.py:82: UserWarning: Glyph 48289 (\\N{HANGUL SYLLABLE BEG}) missing from font(s) DejaVu Sans.\n",
      "  func(*args, **kwargs)\n",
      "c:\\Users\\shina\\anaconda3\\Lib\\site-packages\\IPython\\core\\events.py:82: UserWarning: Glyph 53552 (\\N{HANGUL SYLLABLE TEO}) missing from font(s) DejaVu Sans.\n",
      "  func(*args, **kwargs)\n",
      "c:\\Users\\shina\\anaconda3\\Lib\\site-packages\\IPython\\core\\events.py:82: UserWarning: Glyph 51032 (\\N{HANGUL SYLLABLE YI}) missing from font(s) DejaVu Sans.\n",
      "  func(*args, **kwargs)\n",
      "c:\\Users\\shina\\anaconda3\\Lib\\site-packages\\IPython\\core\\events.py:82: UserWarning: Glyph 44592 (\\N{HANGUL SYLLABLE GI}) missing from font(s) DejaVu Sans.\n",
      "  func(*args, **kwargs)\n",
      "c:\\Users\\shina\\anaconda3\\Lib\\site-packages\\IPython\\core\\events.py:82: UserWarning: Glyph 54616 (\\N{HANGUL SYLLABLE HA}) missing from font(s) DejaVu Sans.\n",
      "  func(*args, **kwargs)\n",
      "c:\\Users\\shina\\anaconda3\\Lib\\site-packages\\IPython\\core\\events.py:82: UserWarning: Glyph 54617 (\\N{HANGUL SYLLABLE HAG}) missing from font(s) DejaVu Sans.\n",
      "  func(*args, **kwargs)\n",
      "c:\\Users\\shina\\anaconda3\\Lib\\site-packages\\IPython\\core\\events.py:82: UserWarning: Glyph 51201 (\\N{HANGUL SYLLABLE JEOG}) missing from font(s) DejaVu Sans.\n",
      "  func(*args, **kwargs)\n",
      "c:\\Users\\shina\\anaconda3\\Lib\\site-packages\\IPython\\core\\events.py:82: UserWarning: Glyph 54364 (\\N{HANGUL SYLLABLE PYO}) missing from font(s) DejaVu Sans.\n",
      "  func(*args, **kwargs)\n",
      "c:\\Users\\shina\\anaconda3\\Lib\\site-packages\\IPython\\core\\events.py:82: UserWarning: Glyph 54788 (\\N{HANGUL SYLLABLE HYEON}) missing from font(s) DejaVu Sans.\n",
      "  func(*args, **kwargs)\n",
      "c:\\Users\\shina\\anaconda3\\Lib\\site-packages\\IPython\\core\\pylabtools.py:170: UserWarning: Glyph 52629 (\\N{HANGUL SYLLABLE CUG}) missing from font(s) DejaVu Sans.\n",
      "  fig.canvas.print_figure(bytes_io, **kw)\n",
      "c:\\Users\\shina\\anaconda3\\Lib\\site-packages\\IPython\\core\\pylabtools.py:170: UserWarning: Glyph 51032 (\\N{HANGUL SYLLABLE YI}) missing from font(s) DejaVu Sans.\n",
      "  fig.canvas.print_figure(bytes_io, **kw)\n",
      "c:\\Users\\shina\\anaconda3\\Lib\\site-packages\\IPython\\core\\pylabtools.py:170: UserWarning: Glyph 54616 (\\N{HANGUL SYLLABLE HA}) missing from font(s) DejaVu Sans.\n",
      "  fig.canvas.print_figure(bytes_io, **kw)\n",
      "c:\\Users\\shina\\anaconda3\\Lib\\site-packages\\IPython\\core\\pylabtools.py:170: UserWarning: Glyph 54617 (\\N{HANGUL SYLLABLE HAG}) missing from font(s) DejaVu Sans.\n",
      "  fig.canvas.print_figure(bytes_io, **kw)\n",
      "c:\\Users\\shina\\anaconda3\\Lib\\site-packages\\IPython\\core\\pylabtools.py:170: UserWarning: Glyph 51201 (\\N{HANGUL SYLLABLE JEOG}) missing from font(s) DejaVu Sans.\n",
      "  fig.canvas.print_figure(bytes_io, **kw)\n",
      "c:\\Users\\shina\\anaconda3\\Lib\\site-packages\\IPython\\core\\pylabtools.py:170: UserWarning: Glyph 54364 (\\N{HANGUL SYLLABLE PYO}) missing from font(s) DejaVu Sans.\n",
      "  fig.canvas.print_figure(bytes_io, **kw)\n",
      "c:\\Users\\shina\\anaconda3\\Lib\\site-packages\\IPython\\core\\pylabtools.py:170: UserWarning: Glyph 54788 (\\N{HANGUL SYLLABLE HYEON}) missing from font(s) DejaVu Sans.\n",
      "  fig.canvas.print_figure(bytes_io, **kw)\n"
     ]
    },
    {
     "data": {
      "image/png": "[encoded data removed]",
      "text/plain": [
       "<Figure size 1400x600 with 2 Axes>"
      ]
     },
     "metadata": {},
     "output_type": "display_data"
    }
   ],
   "source": [
    "# 벡터의 기하학적 의미 시각화\n",
    "fig, (ax1, ax2) = plt.subplots(1, 2, figsize=(14, 6))\n",
    "\n",
    "# 2D 벡터 시각화\n",
    "v1 = np.array([3, 4])\n",
    "v2 = np.array([1, 2])\n",
    "\n",
    "ax1.quiver(0, 0, v1[0], v1[1], angles='xy', scale_units='xy', scale=1, \n",
    "           color='red', width=0.008, label='v₁ = [3, 4]')\n",
    "ax1.quiver(0, 0, v2[0], v2[1], angles='xy', scale_units='xy', scale=1, \n",
    "           color='blue', width=0.008, label='v₂ = [1, 2]')\n",
    "\n",
    "ax1.set_xlim(-0.5, 4.5)\n",
    "ax1.set_ylim(-0.5, 4.5)\n",
    "ax1.set_aspect('equal')\n",
    "ax1.grid(True, alpha=0.3)\n",
    "ax1.set_title('벡터의 기하학적 표현')\n",
    "ax1.set_xlabel('x축')\n",
    "ax1.set_ylabel('y축')\n",
    "ax1.legend()"
   ]
  },
  {
   "cell_type": "markdown",
   "id": "d914d679",
   "metadata": {},
   "source": [
    "## 1.1 벡터 생성과 기본 연산"
   ]
  },
  {
   "cell_type": "code",
   "execution_count": 3,
   "id": "47b86f9c",
   "metadata": {},
   "outputs": [
    {
     "name": "stdout",
     "output_type": "stream",
     "text": [
      "\n",
      "1.1 벡터 생성과 기본 연산\n",
      "------------------------------\n",
      "2차원 벡터 v1: [2 3]\n",
      "2차원 벡터 v2: [1 4]\n",
      "3차원 벡터 v3: [ 3 -1  2]\n",
      "\n",
      "벡터 덧셈 v1 + v2: [3 7]\n",
      "벡터 뺄셈 v1 - v2: [ 1 -1]\n",
      "스칼라 곱셈 3 * v1: [6 9]\n"
     ]
    }
   ],
   "source": [
    "print(\"\\n1.1 벡터 생성과 기본 연산\")\n",
    "print(\"-\" * 30)\n",
    "\n",
    "# 벡터 생성\n",
    "v1 = np.array([2, 3])\n",
    "v2 = np.array([1, 4])\n",
    "v3 = np.array([3, -1, 2])\n",
    "\n",
    "print(f\"2차원 벡터 v1: {v1}\")\n",
    "print(f\"2차원 벡터 v2: {v2}\")\n",
    "print(f\"3차원 벡터 v3: {v3}\")\n",
    "\n",
    "# 벡터 덧셈\n",
    "vector_sum = v1 + v2\n",
    "print(f\"\\n벡터 덧셈 v1 + v2: {vector_sum}\")\n",
    "\n",
    "# 벡터 뺄셈\n",
    "vector_diff = v1 - v2\n",
    "print(f\"벡터 뺄셈 v1 - v2: {vector_diff}\")\n",
    "\n",
    "# 스칼라 곱셈\n",
    "scalar_mult = 3 * v1\n",
    "print(f\"스칼라 곱셈 3 * v1: {scalar_mult}\")"
   ]
  },
  {
   "cell_type": "markdown",
   "id": "e9107b6b",
   "metadata": {},
   "source": [
    "## 1.2 벡터의 크기(노름)"
   ]
  },
  {
   "cell_type": "code",
   "execution_count": 5,
   "id": "6cd252b4",
   "metadata": {},
   "outputs": [
    {
     "name": "stdout",
     "output_type": "stream",
     "text": [
      "\n",
      "1.2 벡터의 크기 (L2 노름)\n",
      "------------------------------\n",
      "v1의 크기 (직접 계산): 3.606\n"
     ]
    }
   ],
   "source": [
    "# 1.2 벡터의 크기(노름)\n",
    "print(\"\\n1.2 벡터의 크기 (L2 노름)\")\n",
    "print(\"-\" * 30)\n",
    "\n",
    "def vector_magnitude(v):\n",
    "    \"\"\"벡터의 크기(L2 노름) 계산\"\"\"\n",
    "    return np.sqrt(np.sum(v**2))\n",
    "\n",
    "# 직접 구현\n",
    "mag_v1_manual = vector_magnitude(v1)\n",
    "print(f\"v1의 크기 (직접 계산): {mag_v1_manual:.3f}\")\n",
    "\n",
    "# NumPy 사용\n",
    "mag_v1_numpy = np.linalg.norm(v1)"
   ]
  },
  {
   "cell_type": "markdown",
   "id": "8c41b432",
   "metadata": {},
   "source": [
    "## 1.3 벡터 정규화 (단위벡터 만들기)"
   ]
  },
  {
   "cell_type": "code",
   "execution_count": 7,
   "id": "eaec5632",
   "metadata": {},
   "outputs": [
    {
     "name": "stdout",
     "output_type": "stream",
     "text": [
      "\n",
      "1.3 벡터 정규화\n",
      "------------------------------\n",
      "v1 정규화: [0.5547002  0.83205029]\n",
      "정규화된 v1의 크기: 1.000\n"
     ]
    }
   ],
   "source": [
    "print(\"\\n1.3 벡터 정규화\")\n",
    "print(\"-\" * 30)\n",
    "\n",
    "def normalize_vector(v):\n",
    "    \"\"\"벡터를 정규화하여 단위벡터로 만들기\"\"\"\n",
    "    return v / np.linalg.norm(v)\n",
    "\n",
    "v1_normalized = normalize_vector(v1)\n",
    "print(f\"v1 정규화: {v1_normalized}\")\n",
    "print(f\"정규화된 v1의 크기: {np.linalg.norm(v1_normalized):.3f}\")"
   ]
  },
  {
   "cell_type": "markdown",
   "id": "b64e1998",
   "metadata": {},
   "source": [
    "## 1.4 내적 (Dot Product)"
   ]
  },
  {
   "cell_type": "code",
   "execution_count": 8,
   "id": "f303c111",
   "metadata": {},
   "outputs": [
    {
     "name": "stdout",
     "output_type": "stream",
     "text": [
      "\n",
      "1.4 내적 (Dot Product)\n",
      "------------------------------\n",
      "\n",
      "내적은 두 벡터의 유사도를 측정하는 중요한 연산입니다.\n",
      "- 내적 = |a| * |b| * cos(θ)\n",
      "- θ는 두 벡터 사이의 각도\n",
      "\n",
      "v1 · v2 = 14\n",
      "v1과 v2 사이의 각도: 19.65°\n"
     ]
    }
   ],
   "source": [
    "print(\"\\n1.4 내적 (Dot Product)\")\n",
    "print(\"-\" * 30)\n",
    "print(\"\"\"\n",
    "내적은 두 벡터의 유사도를 측정하는 중요한 연산입니다.\n",
    "- 내적 = |a| * |b| * cos(θ)\n",
    "- θ는 두 벡터 사이의 각도\n",
    "\"\"\")\n",
    "\n",
    "# 내적 계산\n",
    "dot_product = np.dot(v1, v2)\n",
    "print(f\"v1 · v2 = {dot_product}\")\n",
    "\n",
    "# 각도 계산\n",
    "cos_angle = dot_product / (np.linalg.norm(v1) * np.linalg.norm(v2))\n",
    "angle_rad = np.arccos(cos_angle)\n",
    "angle_deg = np.degrees(angle_rad)\n",
    "print(f\"v1과 v2 사이의 각도: {angle_deg:.2f}°\")"
   ]
  },
  {
   "cell_type": "markdown",
   "id": "66bd60f6",
   "metadata": {},
   "source": [
    "## 1.5 벡터 시각화"
   ]
  },
  {
   "cell_type": "code",
   "execution_count": 30,
   "id": "0ce41cb6",
   "metadata": {},
   "outputs": [
    {
     "name": "stdout",
     "output_type": "stream",
     "text": [
      "\n",
      "1.5 벡터 시각화\n",
      "------------------------------\n"
     ]
    },
    {
     "name": "stderr",
     "output_type": "stream",
     "text": [
      "C:\\Users\\shina\\AppData\\Local\\Temp\\ipykernel_23476\\4066576972.py:30: UserWarning: Glyph 48289 (\\N{HANGUL SYLLABLE BEG}) missing from font(s) DejaVu Sans.\n",
      "  plt.tight_layout()\n",
      "C:\\Users\\shina\\AppData\\Local\\Temp\\ipykernel_23476\\4066576972.py:30: UserWarning: Glyph 53552 (\\N{HANGUL SYLLABLE TEO}) missing from font(s) DejaVu Sans.\n",
      "  plt.tight_layout()\n",
      "C:\\Users\\shina\\AppData\\Local\\Temp\\ipykernel_23476\\4066576972.py:30: UserWarning: Glyph 50672 (\\N{HANGUL SYLLABLE YEON}) missing from font(s) DejaVu Sans.\n",
      "  plt.tight_layout()\n",
      "C:\\Users\\shina\\AppData\\Local\\Temp\\ipykernel_23476\\4066576972.py:30: UserWarning: Glyph 49328 (\\N{HANGUL SYLLABLE SAN}) missing from font(s) DejaVu Sans.\n",
      "  plt.tight_layout()\n",
      "C:\\Users\\shina\\AppData\\Local\\Temp\\ipykernel_23476\\4066576972.py:30: UserWarning: Glyph 49884 (\\N{HANGUL SYLLABLE SI}) missing from font(s) DejaVu Sans.\n",
      "  plt.tight_layout()\n",
      "C:\\Users\\shina\\AppData\\Local\\Temp\\ipykernel_23476\\4066576972.py:30: UserWarning: Glyph 44033 (\\N{HANGUL SYLLABLE GAG}) missing from font(s) DejaVu Sans.\n",
      "  plt.tight_layout()\n",
      "C:\\Users\\shina\\AppData\\Local\\Temp\\ipykernel_23476\\4066576972.py:30: UserWarning: Glyph 54868 (\\N{HANGUL SYLLABLE HWA}) missing from font(s) DejaVu Sans.\n",
      "  plt.tight_layout()\n",
      "C:\\Users\\shina\\AppData\\Local\\Temp\\ipykernel_23476\\4066576972.py:30: UserWarning: Glyph 48744 (\\N{HANGUL SYLLABLE BBAL}) missing from font(s) DejaVu Sans.\n",
      "  plt.tight_layout()\n",
      "C:\\Users\\shina\\AppData\\Local\\Temp\\ipykernel_23476\\4066576972.py:30: UserWarning: Glyph 44053 (\\N{HANGUL SYLLABLE GANG}) missing from font(s) DejaVu Sans.\n",
      "  plt.tight_layout()\n",
      "C:\\Users\\shina\\AppData\\Local\\Temp\\ipykernel_23476\\4066576972.py:30: UserWarning: Glyph 54028 (\\N{HANGUL SYLLABLE PA}) missing from font(s) DejaVu Sans.\n",
      "  plt.tight_layout()\n",
      "C:\\Users\\shina\\AppData\\Local\\Temp\\ipykernel_23476\\4066576972.py:30: UserWarning: Glyph 46993 (\\N{HANGUL SYLLABLE RANG}) missing from font(s) DejaVu Sans.\n",
      "  plt.tight_layout()\n",
      "C:\\Users\\shina\\AppData\\Local\\Temp\\ipykernel_23476\\4066576972.py:30: UserWarning: Glyph 52488 (\\N{HANGUL SYLLABLE CO}) missing from font(s) DejaVu Sans.\n",
      "  plt.tight_layout()\n",
      "C:\\Users\\shina\\AppData\\Local\\Temp\\ipykernel_23476\\4066576972.py:30: UserWarning: Glyph 47197 (\\N{HANGUL SYLLABLE ROG}) missing from font(s) DejaVu Sans.\n",
      "  plt.tight_layout()\n",
      "C:\\Users\\shina\\AppData\\Local\\Temp\\ipykernel_23476\\4066576972.py:30: UserWarning: Glyph 53356 (\\N{HANGUL SYLLABLE KEU}) missing from font(s) DejaVu Sans.\n",
      "  plt.tight_layout()\n",
      "C:\\Users\\shina\\AppData\\Local\\Temp\\ipykernel_23476\\4066576972.py:30: UserWarning: Glyph 44592 (\\N{HANGUL SYLLABLE GI}) missing from font(s) DejaVu Sans.\n",
      "  plt.tight_layout()\n",
      "C:\\Users\\shina\\AppData\\Local\\Temp\\ipykernel_23476\\4066576972.py:30: UserWarning: Glyph 48708 (\\N{HANGUL SYLLABLE BI}) missing from font(s) DejaVu Sans.\n",
      "  plt.tight_layout()\n",
      "C:\\Users\\shina\\AppData\\Local\\Temp\\ipykernel_23476\\4066576972.py:30: UserWarning: Glyph 44368 (\\N{HANGUL SYLLABLE GYO}) missing from font(s) DejaVu Sans.\n",
      "  plt.tight_layout()\n"
     ]
    },
    {
     "data": {
      "image/png": "[encoded data removed]",
      "text/plain": [
       "<Figure size 1200x500 with 2 Axes>"
      ]
     },
     "metadata": {},
     "output_type": "display_data"
    }
   ],
   "source": [
    "print(\"\\n1.5 벡터 시각화\")\n",
    "print(\"-\" * 30)\n",
    "\n",
    "fig, axes = plt.subplots(1, 2, figsize=(12, 5))\n",
    "\n",
    "# 2D 벡터 시각화\n",
    "ax1 = axes[0]\n",
    "ax1.quiver(0, 0, v1[0], v1[1], angles='xy', scale_units='xy', scale=1, color='red', width=0.005)\n",
    "ax1.quiver(0, 0, v2[0], v2[1], angles='xy', scale_units='xy', scale=1, color='blue', width=0.005)\n",
    "ax1.quiver(0, 0, vector_sum[0], vector_sum[1], angles='xy', scale_units='xy', scale=1, color='green', width=0.005)\n",
    "\n",
    "ax1.set_xlim(-1, 6)\n",
    "ax1.set_ylim(-1, 8)\n",
    "ax1.set_aspect('equal')\n",
    "ax1.grid(True, alpha=0.3)\n",
    "ax1.set_title('벡터 연산 시각화')\n",
    "ax1.legend(['v1 (빨강)', 'v2 (파랑)', 'v1+v2 (초록)'])\n",
    "\n",
    "# 벡터 크기 비교\n",
    "vectors = [v1, v2, vector_sum]\n",
    "magnitudes = [np.linalg.norm(v) for v in vectors]\n",
    "labels = ['v1', 'v2', 'v1+v2']\n",
    "\n",
    "ax2 = axes[1]\n",
    "ax2.bar(labels, magnitudes, color=['red', 'blue', 'green'], alpha=0.7)\n",
    "ax2.set_ylabel('벡터 크기')\n",
    "ax2.set_title('벡터 크기 비교')\n",
    "ax2.grid(True, alpha=0.3)\n",
    "\n",
    "plt.tight_layout()\n",
    "plt.show()"
   ]
  },
  {
   "cell_type": "markdown",
   "id": "88af2ce6",
   "metadata": {},
   "source": [
    "# 2. 행렬 (Matrix) 기초\n",
    "\n",
    "행렬은 수들을 직사각형 형태로 배열한 것입니다.  \n",
    "머신러닝에서는 데이터셋, 가중치, 변환 등을 표현하는 핵심 도구입니다.  \n",
    "\n",
    "예시:\n",
    "- 2×3 행렬: 2개의 행과 3개의 열\n",
    "- 데이터셋: 각 행은 샘플, 각 열은 특성\n",
    "- 가중치 행렬: 신경망의 층 간 연결"
   ]
  },
  {
   "cell_type": "markdown",
   "id": "70da9705",
   "metadata": {},
   "source": [
    "## 2.1 행렬 생성과 기본 정보"
   ]
  },
  {
   "cell_type": "code",
   "execution_count": 10,
   "id": "de158158",
   "metadata": {},
   "outputs": [
    {
     "name": "stdout",
     "output_type": "stream",
     "text": [
      "\n",
      "2.1 행렬 생성과 기본 정보\n",
      "------------------------------\n",
      "행렬 A (2×3):\n",
      "[[1 2 3]\n",
      " [4 5 6]]\n",
      "행렬 B (3×2):\n",
      "[[ 7  8]\n",
      " [ 9 10]\n",
      " [11 12]]\n",
      "행렬 C (2×2):\n",
      "[[2 1]\n",
      " [3 4]]\n",
      "\n",
      "A의 형태: (2, 3)\n",
      "B의 형태: (3, 2)\n",
      "C의 형태: (2, 2)\n"
     ]
    }
   ],
   "source": [
    "print(\"\\n2.1 행렬 생성과 기본 정보\")\n",
    "print(\"-\" * 30)\n",
    "\n",
    "# 행렬 생성\n",
    "A = np.array([[1, 2, 3],\n",
    "              [4, 5, 6]])\n",
    "\n",
    "B = np.array([[7, 8],\n",
    "              [9, 10],\n",
    "              [11, 12]])\n",
    "\n",
    "C = np.array([[2, 1],\n",
    "              [3, 4]])\n",
    "\n",
    "print(f\"행렬 A (2×3):\\n{A}\")\n",
    "print(f\"행렬 B (3×2):\\n{B}\")\n",
    "print(f\"행렬 C (2×2):\\n{C}\")\n",
    "\n",
    "print(f\"\\nA의 형태: {A.shape}\")\n",
    "print(f\"B의 형태: {B.shape}\")\n",
    "print(f\"C의 형태: {C.shape}\")"
   ]
  },
  {
   "cell_type": "markdown",
   "id": "16e93ba1",
   "metadata": {},
   "source": [
    "## 2.2 행렬 기본 연산"
   ]
  },
  {
   "cell_type": "code",
   "execution_count": 11,
   "id": "d2e4a2ce",
   "metadata": {},
   "outputs": [
    {
     "name": "stdout",
     "output_type": "stream",
     "text": [
      "\n",
      "2.2 행렬 기본 연산\n",
      "------------------------------\n",
      "행렬 덧셈 C + D:\n",
      "[[3 2]\n",
      " [5 6]]\n",
      "스칼라 곱셈 2 * C:\n",
      "[[4 2]\n",
      " [6 8]]\n",
      "원소별 곱셈 C ⊙ D:\n",
      "[[2 1]\n",
      " [6 8]]\n"
     ]
    }
   ],
   "source": [
    "print(\"\\n2.2 행렬 기본 연산\")\n",
    "print(\"-\" * 30)\n",
    "\n",
    "# 행렬 덧셈 (같은 크기 행렬만 가능)\n",
    "D = np.array([[1, 1],\n",
    "              [2, 2]])\n",
    "\n",
    "matrix_sum = C + D\n",
    "print(f\"행렬 덧셈 C + D:\\n{matrix_sum}\")\n",
    "\n",
    "# 행렬 스칼라 곱셈\n",
    "scalar_mult_matrix = 2 * C\n",
    "print(f\"스칼라 곱셈 2 * C:\\n{scalar_mult_matrix}\")\n",
    "\n",
    "# 원소별 곱셈 (Hadamard product)\n",
    "element_wise = C * D\n",
    "print(f\"원소별 곱셈 C ⊙ D:\\n{element_wise}\")"
   ]
  },
  {
   "cell_type": "markdown",
   "id": "ca871b06",
   "metadata": {},
   "source": [
    "## 2.3 행렬 곱셈"
   ]
  },
  {
   "cell_type": "code",
   "execution_count": 12,
   "id": "c5590043",
   "metadata": {},
   "outputs": [
    {
     "name": "stdout",
     "output_type": "stream",
     "text": [
      "\n",
      "2.3 행렬 곱셈\n",
      "------------------------------\n",
      "\n",
      "행렬 곱셈은 머신러닝의 핵심 연산입니다!\n",
      "- A(m×n) × B(n×p) = C(m×p)\n",
      "- 첫 번째 행렬의 열 수 = 두 번째 행렬의 행 수\n",
      "\n",
      "A × B (2×3 × 3×2 = 2×2):\n",
      "[[ 58  64]\n",
      " [139 154]]\n",
      "\n",
      "수동 계산으로 확인:\n",
      "(0,0) 원소: 1×7 + 2×9 + 3×11 = 58\n"
     ]
    }
   ],
   "source": [
    "print(\"\\n2.3 행렬 곱셈\")\n",
    "print(\"-\" * 30)\n",
    "print(\"\"\"\n",
    "행렬 곱셈은 머신러닝의 핵심 연산입니다!\n",
    "- A(m×n) × B(n×p) = C(m×p)\n",
    "- 첫 번째 행렬의 열 수 = 두 번째 행렬의 행 수\n",
    "\"\"\")\n",
    "\n",
    "# 행렬 곱셈 예제\n",
    "matrix_mult = np.dot(A, B)  # 또는 A @ B\n",
    "print(f\"A × B (2×3 × 3×2 = 2×2):\\n{matrix_mult}\")\n",
    "\n",
    "# 수동 계산으로 확인\n",
    "print(\"\\n수동 계산으로 확인:\")\n",
    "print(f\"(0,0) 원소: {A[0,0]}×{B[0,0]} + {A[0,1]}×{B[1,0]} + {A[0,2]}×{B[2,0]} = {A[0,0]*B[0,0] + A[0,1]*B[1,0] + A[0,2]*B[2,0]}\")"
   ]
  },
  {
   "cell_type": "markdown",
   "id": "27cf9682",
   "metadata": {},
   "source": [
    "## 2.4 행렬의 전치 (Transpose)"
   ]
  },
  {
   "cell_type": "code",
   "execution_count": 13,
   "id": "93fe269d",
   "metadata": {},
   "outputs": [
    {
     "name": "stdout",
     "output_type": "stream",
     "text": [
      "\n",
      "2.4 행렬의 전치\n",
      "------------------------------\n",
      "A의 전치 A^T:\n",
      "[[1 4]\n",
      " [2 5]\n",
      " [3 6]]\n",
      "A의 형태: (2, 3) → A^T의 형태: (3, 2)\n"
     ]
    }
   ],
   "source": [
    "print(\"\\n2.4 행렬의 전치\")\n",
    "print(\"-\" * 30)\n",
    "\n",
    "A_T = A.T  # 또는 np.transpose(A)\n",
    "print(f\"A의 전치 A^T:\\n{A_T}\")\n",
    "print(f\"A의 형태: {A.shape} → A^T의 형태: {A_T.shape}\")"
   ]
  },
  {
   "cell_type": "markdown",
   "id": "fa008cd7",
   "metadata": {},
   "source": [
    "## 2.5 특수한 행렬들"
   ]
  },
  {
   "cell_type": "code",
   "execution_count": 14,
   "id": "f522b66c",
   "metadata": {},
   "outputs": [
    {
     "name": "stdout",
     "output_type": "stream",
     "text": [
      "\n",
      "2.5 특수한 행렬들\n",
      "------------------------------\n",
      "영행렬 (3×3):\n",
      "[[0. 0. 0.]\n",
      " [0. 0. 0.]\n",
      " [0. 0. 0.]]\n",
      "단위행렬 (3×3):\n",
      "[[1. 0. 0.]\n",
      " [0. 1. 0.]\n",
      " [0. 0. 1.]]\n",
      "대각행렬:\n",
      "[[1 0 0]\n",
      " [0 2 0]\n",
      " [0 0 3]]\n"
     ]
    }
   ],
   "source": [
    "print(\"\\n2.5 특수한 행렬들\")\n",
    "print(\"-\" * 30)\n",
    "\n",
    "# 영행렬\n",
    "zeros_matrix = np.zeros((3, 3))\n",
    "print(f\"영행렬 (3×3):\\n{zeros_matrix}\")\n",
    "\n",
    "# 단위행렬\n",
    "identity_matrix = np.eye(3)\n",
    "print(f\"단위행렬 (3×3):\\n{identity_matrix}\")\n",
    "\n",
    "# 대각행렬\n",
    "diagonal_matrix = np.diag([1, 2, 3])\n",
    "print(f\"대각행렬:\\n{diagonal_matrix}\")"
   ]
  },
  {
   "cell_type": "markdown",
   "id": "54108104",
   "metadata": {},
   "source": [
    "## 2.6 행렬식 (Determinant)"
   ]
  },
  {
   "cell_type": "code",
   "execution_count": 15,
   "id": "b9ce6224",
   "metadata": {},
   "outputs": [
    {
     "name": "stdout",
     "output_type": "stream",
     "text": [
      "\n",
      "2.6 행렬식\n",
      "------------------------------\n",
      "\n",
      "행렬식은 정사각행렬의 중요한 성질입니다.\n",
      "- det(A) ≠ 0 이면 역행렬이 존재\n",
      "- det(A) = 0 이면 특이행렬 (singular matrix)\n",
      "\n",
      "행렬 C의 행렬식: 5.000\n",
      "수동 계산: 2 × 4 - 1 × 3 = 5\n"
     ]
    }
   ],
   "source": [
    "print(\"\\n2.6 행렬식\")\n",
    "print(\"-\" * 30)\n",
    "print(\"\"\"\n",
    "행렬식은 정사각행렬의 중요한 성질입니다.\n",
    "- det(A) ≠ 0 이면 역행렬이 존재\n",
    "- det(A) = 0 이면 특이행렬 (singular matrix)\n",
    "\"\"\")\n",
    "\n",
    "det_C = np.linalg.det(C)\n",
    "print(f\"행렬 C의 행렬식: {det_C:.3f}\")\n",
    "\n",
    "# 2×2 행렬의 행렬식 수동 계산\n",
    "det_manual = C[0,0] * C[1,1] - C[0,1] * C[1,0]\n",
    "print(f\"수동 계산: {C[0,0]} × {C[1,1]} - {C[0,1]} × {C[1,0]} = {det_manual}\")"
   ]
  },
  {
   "cell_type": "markdown",
   "id": "d932d605",
   "metadata": {},
   "source": [
    "## 2.7 역행렬 (Inverse)"
   ]
  },
  {
   "cell_type": "code",
   "execution_count": null,
   "id": "d3624bbf",
   "metadata": {},
   "outputs": [
    {
     "name": "stdout",
     "output_type": "stream",
     "text": [
      "\n",
      "2.7 역행렬\n",
      "------------------------------\n",
      "행렬 C의 역행렬:\n",
      "[[ 0.8 -0.2]\n",
      " [-0.6  0.4]]\n",
      "검증 C × C^(-1):\n",
      "[[ 1.00000000e+00 -5.55111512e-17]\n",
      " [ 0.00000000e+00  1.00000000e+00]]\n",
      "(거의 단위행렬이어야 함)\n"
     ]
    }
   ],
   "source": [
    "print(\"\\n2.7 역행렬\")\n",
    "print(\"-\" * 30)\n",
    "\n",
    "if det_C != 0:\n",
    "    C_inv = np.linalg.inv(C)\n",
    "    print(f\"행렬 C의 역행렬:\\n{C_inv}\")\n",
    "    \n",
    "    # 검증: C × C^(-1) = I\n",
    "    verification = np.dot(C, C_inv)\n",
    "    print(f\"검증 C × C^(-1):\\n{verification}\")\n",
    "    print(\"(거의 단위행렬이어야 함)\")"
   ]
  },
  {
   "cell_type": "markdown",
   "id": "203c833a",
   "metadata": {},
   "source": [
    "# 3. 머신러닝 연결고리"
   ]
  },
  {
   "cell_type": "markdown",
   "id": "810a5db6",
   "metadata": {},
   "source": [
    "## 3.1 데이터 행렬 표현"
   ]
  },
  {
   "cell_type": "code",
   "execution_count": 19,
   "id": "9b9a31b8",
   "metadata": {},
   "outputs": [
    {
     "name": "stdout",
     "output_type": "stream",
     "text": [
      "\n",
      "3.1 데이터 행렬 표현\n",
      "------------------------------\n",
      "데이터 행렬 X의 형태: (100, 3)\n",
      "첫 5개 샘플:\n",
      "[[174.96714153  48.76943887  32.86229888]\n",
      " [168.61735699  63.69032016  34.48627621]\n",
      " [176.47688538  64.85928225  38.66440995]\n",
      " [185.23029856  57.96584096  38.43041642]\n",
      " [167.65846625  67.58071433  18.97864506]]\n"
     ]
    }
   ],
   "source": [
    "print(\"\\n3.1 데이터 행렬 표현\")\n",
    "print(\"-\" * 30)\n",
    "\n",
    "# 가상의 데이터셋 생성\n",
    "np.random.seed(42)\n",
    "n_samples = 100\n",
    "n_features = 3\n",
    "\n",
    "# 데이터 생성 (키, 몸무게, 나이)\n",
    "heights = np.random.normal(170, 10, n_samples)\n",
    "weights = np.random.normal(70, 15, n_samples)\n",
    "ages = np.random.normal(30, 8, n_samples)\n",
    "\n",
    "# 데이터 행렬 구성\n",
    "X = np.column_stack([heights, weights, ages])\n",
    "print(f\"데이터 행렬 X의 형태: {X.shape}\")\n",
    "print(f\"첫 5개 샘플:\\n{X[:5]}\")"
   ]
  },
  {
   "cell_type": "markdown",
   "id": "f3ebdffb",
   "metadata": {},
   "source": [
    "## 3.2 선형 변환 예제"
   ]
  },
  {
   "cell_type": "code",
   "execution_count": 20,
   "id": "2585cf35",
   "metadata": {},
   "outputs": [
    {
     "name": "stdout",
     "output_type": "stream",
     "text": [
      "\n",
      "3.2 선형 변환 예제\n",
      "------------------------------\n",
      "원본 포인트들:\n",
      "[[1 3 2 4]\n",
      " [2 1 3 2]]\n",
      "회전된 포인트들:\n",
      "[[-0.70710678  1.41421356 -0.70710678  1.41421356]\n",
      " [ 2.12132034  2.82842712  3.53553391  4.24264069]]\n"
     ]
    }
   ],
   "source": [
    "print(\"\\n3.2 선형 변환 예제\")\n",
    "print(\"-\" * 30)\n",
    "\n",
    "# 2D 데이터 포인트들\n",
    "points = np.array([[1, 2], [3, 1], [2, 3], [4, 2]]).T\n",
    "print(f\"원본 포인트들:\\n{points}\")\n",
    "\n",
    "# 회전 행렬 (45도 회전)\n",
    "theta = np.pi / 4  # 45도\n",
    "rotation_matrix = np.array([[np.cos(theta), -np.sin(theta)],\n",
    "                           [np.sin(theta), np.cos(theta)]])\n",
    "\n",
    "# 회전 적용\n",
    "rotated_points = np.dot(rotation_matrix, points)\n",
    "print(f\"회전된 포인트들:\\n{rotated_points}\")"
   ]
  },
  {
   "cell_type": "markdown",
   "id": "66dfdb9a",
   "metadata": {},
   "source": [
    "## 3.3 시각화"
   ]
  },
  {
   "cell_type": "code",
   "execution_count": 22,
   "id": "bffe8bfe",
   "metadata": {},
   "outputs": [
    {
     "name": "stderr",
     "output_type": "stream",
     "text": [
      "c:\\Users\\shina\\anaconda3\\Lib\\site-packages\\IPython\\core\\pylabtools.py:170: UserWarning: Glyph 49440 (\\N{HANGUL SYLLABLE SEON}) missing from font(s) DejaVu Sans.\n",
      "  fig.canvas.print_figure(bytes_io, **kw)\n",
      "c:\\Users\\shina\\anaconda3\\Lib\\site-packages\\IPython\\core\\pylabtools.py:170: UserWarning: Glyph 54805 (\\N{HANGUL SYLLABLE HYEONG}) missing from font(s) DejaVu Sans.\n",
      "  fig.canvas.print_figure(bytes_io, **kw)\n",
      "c:\\Users\\shina\\anaconda3\\Lib\\site-packages\\IPython\\core\\pylabtools.py:170: UserWarning: Glyph 48320 (\\N{HANGUL SYLLABLE BYEON}) missing from font(s) DejaVu Sans.\n",
      "  fig.canvas.print_figure(bytes_io, **kw)\n",
      "c:\\Users\\shina\\anaconda3\\Lib\\site-packages\\IPython\\core\\pylabtools.py:170: UserWarning: Glyph 54872 (\\N{HANGUL SYLLABLE HWAN}) missing from font(s) DejaVu Sans.\n",
      "  fig.canvas.print_figure(bytes_io, **kw)\n",
      "c:\\Users\\shina\\anaconda3\\Lib\\site-packages\\IPython\\core\\pylabtools.py:170: UserWarning: Glyph 46020 (\\N{HANGUL SYLLABLE DO}) missing from font(s) DejaVu Sans.\n",
      "  fig.canvas.print_figure(bytes_io, **kw)\n",
      "c:\\Users\\shina\\anaconda3\\Lib\\site-packages\\IPython\\core\\pylabtools.py:170: UserWarning: Glyph 54924 (\\N{HANGUL SYLLABLE HOE}) missing from font(s) DejaVu Sans.\n",
      "  fig.canvas.print_figure(bytes_io, **kw)\n",
      "c:\\Users\\shina\\anaconda3\\Lib\\site-packages\\IPython\\core\\pylabtools.py:170: UserWarning: Glyph 51204 (\\N{HANGUL SYLLABLE JEON}) missing from font(s) DejaVu Sans.\n",
      "  fig.canvas.print_figure(bytes_io, **kw)\n",
      "c:\\Users\\shina\\anaconda3\\Lib\\site-packages\\IPython\\core\\pylabtools.py:170: UserWarning: Glyph 50896 (\\N{HANGUL SYLLABLE WEON}) missing from font(s) DejaVu Sans.\n",
      "  fig.canvas.print_figure(bytes_io, **kw)\n",
      "c:\\Users\\shina\\anaconda3\\Lib\\site-packages\\IPython\\core\\pylabtools.py:170: UserWarning: Glyph 48376 (\\N{HANGUL SYLLABLE BON}) missing from font(s) DejaVu Sans.\n",
      "  fig.canvas.print_figure(bytes_io, **kw)\n",
      "c:\\Users\\shina\\anaconda3\\Lib\\site-packages\\IPython\\core\\pylabtools.py:170: UserWarning: Glyph 46120 (\\N{HANGUL SYLLABLE DOEM}) missing from font(s) DejaVu Sans.\n",
      "  fig.canvas.print_figure(bytes_io, **kw)\n"
     ]
    },
    {
     "data": {
      "image/png": "[encoded data removed]",
      "text/plain": [
       "<Figure size 800x600 with 1 Axes>"
      ]
     },
     "metadata": {},
     "output_type": "display_data"
    }
   ],
   "source": [
    "fig, ax = plt.subplots(1, 1, figsize=(8, 6))\n",
    "\n",
    "# 원본 포인트\n",
    "ax.scatter(points[0], points[1], c='blue', s=100, alpha=0.7, label='원본')\n",
    "\n",
    "# 회전된 포인트\n",
    "ax.scatter(rotated_points[0], rotated_points[1], c='red', s=100, alpha=0.7, label='회전됨')\n",
    "\n",
    "# 원점에서 각 포인트로의 벡터\n",
    "for i in range(points.shape[1]):\n",
    "    ax.arrow(0, 0, points[0,i], points[1,i], head_width=0.1, head_length=0.1, \n",
    "             fc='blue', ec='blue', alpha=0.5)\n",
    "    ax.arrow(0, 0, rotated_points[0,i], rotated_points[1,i], head_width=0.1, head_length=0.1, \n",
    "             fc='red', ec='red', alpha=0.5)\n",
    "\n",
    "ax.set_xlim(-1, 5)\n",
    "ax.set_ylim(-1, 5)\n",
    "ax.set_aspect('equal')\n",
    "ax.grid(True, alpha=0.3)\n",
    "ax.legend()\n",
    "ax.set_title('선형 변환: 45도 회전')\n",
    "plt.show()"
   ]
  },
  {
   "cell_type": "markdown",
   "id": "3b9c23d4",
   "metadata": {},
   "source": [
    "### 4. 실습 문제"
   ]
  },
  {
   "cell_type": "markdown",
   "id": "8c8c6350",
   "metadata": {},
   "source": [
    "**1. 벡터 a = [3, 4, 5]와 b = [1, 2, 3]의 내적을 계산하고, 두 벡터 사이의 각도를 구하세요.**"
   ]
  },
  {
   "cell_type": "code",
   "execution_count": 25,
   "id": "a0247a11",
   "metadata": {},
   "outputs": [
    {
     "name": "stdout",
     "output_type": "stream",
     "text": [
      "\n",
      "문제 1 해답:\n",
      "--------------------\n",
      "a · b = 26\n",
      "두 벡터 사이의 각도: 10.67°\n"
     ]
    }
   ],
   "source": [
    "# 문제 1 해답\n",
    "print(\"\\n문제 1 해답:\")\n",
    "print(\"-\" * 20)\n",
    "a = np.array([3, 4, 5])\n",
    "b = np.array([1, 2, 3])\n",
    "\n",
    "dot_ab = np.dot(a, b)\n",
    "angle_ab = np.arccos(dot_ab / (np.linalg.norm(a) * np.linalg.norm(b)))\n",
    "angle_ab_deg = np.degrees(angle_ab)\n",
    "\n",
    "print(f\"a · b = {dot_ab}\")\n",
    "print(f\"두 벡터 사이의 각도: {angle_ab_deg:.2f}°\")"
   ]
  },
  {
   "cell_type": "markdown",
   "id": "7e99f5c4",
   "metadata": {},
   "source": [
    "**2. 다음 행렬의 곱셈을 계산하세요:**  \n",
    "\n",
    "   A = [[1, 2], [3, 4]]  \n",
    "   B = [[2, 0], [1, 3]]"
   ]
  },
  {
   "cell_type": "code",
   "execution_count": 26,
   "id": "93f901a2",
   "metadata": {},
   "outputs": [
    {
     "name": "stdout",
     "output_type": "stream",
     "text": [
      "\n",
      "문제 2 해답:\n",
      "--------------------\n",
      "A × B =\n",
      "[[ 4  6]\n",
      " [10 12]]\n"
     ]
    }
   ],
   "source": [
    "# 문제 2 해답\n",
    "print(\"\\n문제 2 해답:\")\n",
    "print(\"-\" * 20)\n",
    "A_prob = np.array([[1, 2], [3, 4]])\n",
    "B_prob = np.array([[2, 0], [1, 3]])\n",
    "result = np.dot(A_prob, B_prob)\n",
    "print(f\"A × B =\\n{result}\")"
   ]
  },
  {
   "cell_type": "markdown",
   "id": "87b35a86",
   "metadata": {},
   "source": [
    "**3. 행렬 [[2, 1], [4, 3]]의 역행렬을 구하고, 원래 행렬과 곱해서 단위행렬이 나오는지 확인하세요.**"
   ]
  },
  {
   "cell_type": "code",
   "execution_count": 27,
   "id": "ac9fa439",
   "metadata": {},
   "outputs": [
    {
     "name": "stdout",
     "output_type": "stream",
     "text": [
      "\n",
      "문제 3 해답:\n",
      "--------------------\n",
      "원래 행렬:\n",
      "[[2 1]\n",
      " [4 3]]\n",
      "역행렬:\n",
      "[[ 1.5 -0.5]\n",
      " [-2.   1. ]]\n",
      "검증 (원래 × 역행렬):\n",
      "[[1. 0.]\n",
      " [0. 1.]]\n",
      "\n",
      "==================================================\n",
      "벡터와 행렬 기초 학습 완료!\n",
      "다음 단계: 고유값과 고유벡터 학습\n",
      "==================================================\n"
     ]
    }
   ],
   "source": [
    "# 문제 3 해답\n",
    "print(\"\\n문제 3 해답:\")\n",
    "print(\"-\" * 20)\n",
    "matrix_prob = np.array([[2, 1], [4, 3]])\n",
    "matrix_inv = np.linalg.inv(matrix_prob)\n",
    "verification_prob = np.dot(matrix_prob, matrix_inv)\n",
    "print(f\"원래 행렬:\\n{matrix_prob}\")\n",
    "print(f\"역행렬:\\n{matrix_inv}\")\n",
    "print(f\"검증 (원래 × 역행렬):\\n{verification_prob}\")\n",
    "\n",
    "print(\"\\n\" + \"=\"*50)\n",
    "print(\"벡터와 행렬 기초 학습 완료!\")\n",
    "print(\"다음 단계: 고유값과 고유벡터 학습\")\n",
    "print(\"=\"*50)\n"
   ]
  }
 ],
 "metadata": {
  "kernelspec": {
   "display_name": "base",
   "language": "python",
   "name": "python3"
  },
  "language_info": {
   "codemirror_mode": {
    "name": "ipython",
    "version": 3
   },
   "file_extension": ".py",
   "mimetype": "text/x-python",
   "name": "python",
   "nbconvert_exporter": "python",
   "pygments_lexer": "ipython3",
   "version": "3.12.3"
  }
 },
 "nbformat": 4,
 "nbformat_minor": 5
}
